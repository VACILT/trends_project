{
 "cells": [
  {
   "cell_type": "code",
   "execution_count": 1,
   "metadata": {},
   "outputs": [],
   "source": [
    "import xarray as xr\n",
    "import xarray.ufuncs as xrf\n",
    "import numpy as np\n",
    "import matplotlib.pyplot as plt\n",
    "import pandas as pd\n",
    "import glob\n",
    "from scipy import stats"
   ]
  },
  {
   "cell_type": "code",
   "execution_count": 2,
   "metadata": {},
   "outputs": [],
   "source": [
    "alt = [70, 72, 74, 76, 78, 80, 82, 84, 86, 88, 90, 92, 94, 96, 98, 100, 102, 104, \\\n",
    "       106, 108, 110, 112, 114, 116, 118, 120]\n",
    "root_path = '/home/gemeinsam_tmp/UA_students/data/'\n",
    "#xr.open_dataset( '/home/gemeinsam_tmp/UA_students/data/Col/Meteor_radar_Col_GW_201903.h5', group='info')['day']"
   ]
  },
  {
   "cell_type": "markdown",
   "metadata": {},
   "source": [
    "# Meteor radars"
   ]
  },
  {
   "cell_type": "markdown",
   "metadata": {},
   "source": [
    "* Dav        Davis; GW:200501-201912\n",
    "* Col         Collm (Leipzig); GW:200408-201903\n",
    "* Rio         RioGrande (SAAMER- Argentina); GW:200802-201912\n",
    "* Sod        Sodankyla; GW:200810-201912\n",
    "* Kir          Kiruna (Sweden ? Esrange); GW:199908-201912\n",
    "* CMA      CMOR (Canada ? CMA (CMOR All) triple frequency data); GW:200201-201812\n",
    "* SES        Sodankyla ? Esrange merged (assigned either to Esrange or Sodankyla or a virtual center in between); GW:199908-201912"
   ]
  },
  {
   "cell_type": "markdown",
   "metadata": {},
   "source": [
    "# FUNCTIONS"
   ]
  },
  {
   "cell_type": "markdown",
   "metadata": {},
   "source": [
    "### lineare regression"
   ]
  },
  {
   "cell_type": "code",
   "execution_count": 3,
   "metadata": {},
   "outputs": [],
   "source": [
    "def new_linregress(y):\n",
    "    # Wrapper around scipy linregress to use in apply_ufunc\n",
    "    slope, intercept, r_value, p_value, std_err = stats.linregress(x, y)\n",
    "    return np.array([slope, intercept, r_value, p_value, std_err])\n"
   ]
  },
  {
   "cell_type": "code",
   "execution_count": 4,
   "metadata": {},
   "outputs": [],
   "source": [
    "def time_reg(var):\n",
    "    statistics = xr.apply_ufunc(new_linregress, var, \n",
    "                       input_core_dims=[['time']],\n",
    "                       output_core_dims=[[\"parameter\"]],\n",
    "                       vectorize=True,\n",
    "                       dask=\"allowed\",\n",
    "                       output_dtypes=['float64'],\n",
    "                       output_sizes={\"parameter\": 5},\n",
    "                      )\n",
    "    return statistics"
   ]
  },
  {
   "cell_type": "markdown",
   "metadata": {},
   "source": [
    "### Variable einlesen"
   ]
  },
  {
   "cell_type": "code",
   "execution_count": 5,
   "metadata": {},
   "outputs": [],
   "source": [
    "def read_group(gruppe,loc):\n",
    "    station = loc#ersten Buchstaben bitte bitte groß schreiben\n",
    "    infiles = f'{root_path}{station}/Meteor_radar_{station}_GW_*.h5'\n",
    "    ds = xr.open_mfdataset(infiles, concat_dim = 'phony_dim_6', group = gruppe, combine='nested', parallel = True)\n",
    "    ds = ds.rename({'phony_dim_6': 'time', 'phony_dim_7': 'alt'})\n",
    "    ds['alt'] = alt\n",
    "    ds['alt'].attrs['units'] = 'km'\n",
    "    # change time range according to meteor radar station\n",
    "    ds['time'] = pd.date_range(start = '2004-08-01', end = '2019-03-06', periods = ds.time.shape[0]) \n",
    "    return ds\n",
    "    "
   ]
  },
  {
   "cell_type": "code",
   "execution_count": 6,
   "metadata": {},
   "outputs": [],
   "source": [
    "def read_var(gruppe, var):\n",
    "        varout = gruppe[var]\n",
    "        return varout"
   ]
  },
  {
   "cell_type": "markdown",
   "metadata": {},
   "source": [
    "### Horizontal Wind"
   ]
  },
  {
   "cell_type": "code",
   "execution_count": 7,
   "metadata": {},
   "outputs": [],
   "source": [
    "def hwind(u,v):\n",
    "    return np.sqrt(u**2+v**2)\n",
    "    "
   ]
  },
  {
   "cell_type": "markdown",
   "metadata": {},
   "source": [
    "### time mean"
   ]
  },
  {
   "cell_type": "code",
   "execution_count": 8,
   "metadata": {},
   "outputs": [],
   "source": [
    "def time_mean(step,var):\n",
    "    return var.resample(time='1'+step).mean('time') #Immer nur D oder M oder H oder Y eintragen! Mit Anführungszeichen!\n",
    "    \n",
    "    "
   ]
  },
  {
   "cell_type": "markdown",
   "metadata": {},
   "source": [
    "### Amomalies"
   ]
  },
  {
   "cell_type": "code",
   "execution_count": 9,
   "metadata": {},
   "outputs": [],
   "source": [
    "def anomalie(step,var):\n",
    "    string = \"time.\"+step   \n",
    "    climatology = var.groupby(string).mean(\"time\")\n",
    "    anomalies = var.groupby(string) - climatology\n",
    "    return anomalies\n",
    "\n",
    "\n"
   ]
  },
  {
   "cell_type": "markdown",
   "metadata": {},
   "source": [
    "## Collm"
   ]
  },
  {
   "cell_type": "code",
   "execution_count": 10,
   "metadata": {},
   "outputs": [],
   "source": [
    "ds_col= read_group('wind','Col')\n",
    "u_col = read_var(ds_col,'u')  \n",
    "v_col = read_var(ds_col,'v')\n",
    "hwind_col = hwind(u_col,v_col)\n",
    "hwind_ano_col=anomalie('month',hwind_col)\n",
    "hwind_col_monthly = time_mean('M',hwind_col) "
   ]
  },
  {
   "cell_type": "code",
   "execution_count": 11,
   "metadata": {},
   "outputs": [
    {
     "data": {
      "text/plain": [
       "<matplotlib.collections.QuadMesh at 0x7f7ae068a0b8>"
      ]
     },
     "execution_count": 11,
     "metadata": {},
     "output_type": "execute_result"
    },
    {
     "data": {
      "image/png": "[encoded data removed]",
      "text/plain": [
       "<Figure size 432x288 with 2 Axes>"
      ]
     },
     "metadata": {
      "needs_background": "light"
     },
     "output_type": "display_data"
    }
   ],
   "source": [
    "\n",
    "hwind_col.plot(x='time')"
   ]
  },
  {
   "cell_type": "code",
   "execution_count": 12,
   "metadata": {},
   "outputs": [
    {
     "name": "stderr",
     "output_type": "stream",
     "text": [
      "/home/hochatmstud/.conda/envs/uas/lib/python3.6/site-packages/dask/array/numpy_compat.py:40: RuntimeWarning: invalid value encountered in true_divide\n",
      "  x = np.divide(x1, x2, out)\n"
     ]
    },
    {
     "data": {
      "text/plain": [
       "<matplotlib.collections.QuadMesh at 0x7f7ac078e6d8>"
      ]
     },
     "execution_count": 12,
     "metadata": {},
     "output_type": "execute_result"
    },
    {
     "data": {
      "image/png": "[encoded data removed]",
      "text/plain": [
       "<Figure size 432x288 with 2 Axes>"
      ]
     },
     "metadata": {
      "needs_background": "light"
     },
     "output_type": "display_data"
    }
   ],
   "source": [
    "hwind_col_monthly.plot(x='time')"
   ]
  },
  {
   "cell_type": "code",
   "execution_count": 14,
   "metadata": {},
   "outputs": [
    {
     "name": "stderr",
     "output_type": "stream",
     "text": [
      "/home/hochatmstud/.conda/envs/uas/lib/python3.6/site-packages/dask/array/numpy_compat.py:40: RuntimeWarning: invalid value encountered in true_divide\n",
      "  x = np.divide(x1, x2, out)\n"
     ]
    },
    {
     "data": {
      "text/plain": [
       "[<matplotlib.lines.Line2D at 0x7f7ac0782828>]"
      ]
     },
     "execution_count": 14,
     "metadata": {},
     "output_type": "execute_result"
    },
    {
     "data": {
      "image/png": "[encoded data removed]",
      "text/plain": [
       "<Figure size 432x288 with 1 Axes>"
      ]
     },
     "metadata": {
      "needs_background": "light"
     },
     "output_type": "display_data"
    }
   ],
   "source": [
    "x = np.arange(hwind_col_monthly.time.shape[0])\n",
    "statistics = time_reg(hwind_col_monthly)\n",
    "statistics['parameter'] = ['slope', 'intercept', 'r_value','p_value', 'std_err']\n",
    "statistics.sel(parameter='slope').plot()"
   ]
  },
  {
   "cell_type": "markdown",
   "metadata": {},
   "source": [
    "### Gravity waves"
   ]
  },
  {
   "cell_type": "code",
   "execution_count": null,
   "metadata": {},
   "outputs": [],
   "source": [
    "var = 'u'\n",
    "da_jul_gwu = ds_jul[var]-ds_jul[f'{var}_fil']\n",
    "var = 'v'\n",
    "da_jul_gwv = ds_jul[var]-ds_jul[f'{var}_fil']\n",
    "da_jul_gw_total = 0.5*(da_jul_gwu**2+ da_jul_gwv**2) # kinetic energy"
   ]
  },
  {
   "cell_type": "code",
   "execution_count": null,
   "metadata": {},
   "outputs": [],
   "source": [
    "da_jul_gw_total.plot(x = 'time', robust = True, vmax = 400, vmin = 0)"
   ]
  },
  {
   "cell_type": "markdown",
   "metadata": {},
   "source": [
    "#### Climatology calculation"
   ]
  },
  {
   "cell_type": "code",
   "execution_count": null,
   "metadata": {},
   "outputs": [],
   "source": [
    "da_jul_gw_total_clim = da_jul_gw_total.groupby('time.month').mean('time').load()\n",
    "da_jul_gw_total_clim"
   ]
  },
  {
   "cell_type": "code",
   "execution_count": null,
   "metadata": {},
   "outputs": [],
   "source": [
    "da_jul_gw_total_clim.plot(x = 'month', robust = True)"
   ]
  },
  {
   "cell_type": "code",
   "execution_count": null,
   "metadata": {},
   "outputs": [],
   "source": [
    "station = 'Rio'\n",
    "infiles = f'{root_path}{station}/Meteor_radar_{station}_GW_*.h5'\n",
    "ds_jul = xr.open_mfdataset(infiles, concat_dim = 'phony_dim_6', group = 'wind', combine='nested', parallel = True)\n",
    "ds_jul = ds_jul.rename({'phony_dim_6': 'time', 'phony_dim_7': 'alt'})\n",
    "ds_jul['alt'] = alt_jul\n",
    "ds_jul['alt'].attrs['units'] = 'km'\n",
    "ds_jul['time'] = pd.date_range(start = '2008-02-01', end = '2019-12-31', periods = ds_jul.time.shape[0])\n",
    "ds_jul"
   ]
  },
  {
   "cell_type": "code",
   "execution_count": null,
   "metadata": {},
   "outputs": [],
   "source": [
    "var = 'u'\n",
    "da_jul_gwu = ds_jul[var]-ds_jul[f'{var}_fil']\n",
    "var = 'v'\n",
    "da_jul_gwv = ds_jul[var]-ds_jul[f'{var}_fil']\n",
    "da_jul_gw_total = 0.5*(da_jul_gwu**2+ da_jul_gwv**2)\n",
    "da_jul_gw_total_clim = da_jul_gw_total.groupby('time.month').mean('time').load()\n",
    "da_jul_gw_total_clim"
   ]
  },
  {
   "cell_type": "code",
   "execution_count": null,
   "metadata": {},
   "outputs": [],
   "source": [
    "da_jul_gw_total_clim.plot(x = 'month', robust = True)"
   ]
  },
  {
   "cell_type": "markdown",
   "metadata": {},
   "source": [
    "# GAIA"
   ]
  },
  {
   "cell_type": "markdown",
   "metadata": {},
   "source": [
    "## Rio"
   ]
  },
  {
   "cell_type": "code",
   "execution_count": null,
   "metadata": {},
   "outputs": [],
   "source": [
    "root_path = '/projekt4/hochatm/akuchar/GAIA_analysis/'\n",
    "infile = f'{root_path}GAIA_Rio_20080201_20141231_run20200327.nc'\n",
    "ds = xr.open_dataset(infile, group='GAIA')\n",
    "ds['time'] = pd.date_range(start = '2008-02-01', end = '2014-12-31', periods=ds.time.shape[0])\n",
    "ds"
   ]
  },
  {
   "cell_type": "markdown",
   "metadata": {},
   "source": [
    "### Tides amplitude in zonal wind (climatology)"
   ]
  },
  {
   "cell_type": "markdown",
   "metadata": {},
   "source": [
    "#### Diurnal"
   ]
  },
  {
   "cell_type": "code",
   "execution_count": null,
   "metadata": {},
   "outputs": [],
   "source": [
    "temp = ds['A24u'].sel(alt = slice(80,100)).groupby('time.month').mean('time')\n",
    "temp.plot.contourf(x = 'month', robust = True, levels = 21)"
   ]
  },
  {
   "cell_type": "markdown",
   "metadata": {},
   "source": [
    "#### Semi-diurnal"
   ]
  },
  {
   "cell_type": "code",
   "execution_count": null,
   "metadata": {},
   "outputs": [],
   "source": [
    "temp = ds['A12u'].sel(alt = slice(80,100)).groupby('time.month').mean('time')\n",
    "temp.plot.contourf(x = 'month', robust = True, levels = 21)"
   ]
  },
  {
   "cell_type": "markdown",
   "metadata": {},
   "source": [
    "#### Terdiurnal"
   ]
  },
  {
   "cell_type": "code",
   "execution_count": null,
   "metadata": {},
   "outputs": [],
   "source": [
    "temp = ds['A8u'].sel(alt = slice(80,100)).groupby('time.month').mean('time')\n",
    "temp.plot.contourf(x = 'month', robust = True, levels = 21)"
   ]
  },
  {
   "cell_type": "markdown",
   "metadata": {},
   "source": [
    "### Gravity waves"
   ]
  },
  {
   "cell_type": "code",
   "execution_count": null,
   "metadata": {},
   "outputs": [],
   "source": [
    "var = 'u'\n",
    "da_gwu = ds[var]-ds[f'{var}_fil']\n",
    "var = 'v'\n",
    "da_gwv = ds[var]-ds[f'{var}_fil']\n",
    "da_gw_total = 0.5*(da_gwu**2+ da_gwv**2)\n",
    "da_gw_total_clim = da_gw_total.groupby('time.month').mean('time')\n",
    "da_gw_total_clim"
   ]
  },
  {
   "cell_type": "code",
   "execution_count": null,
   "metadata": {},
   "outputs": [],
   "source": [
    "da_gw_total.plot(x = 'time', robust = True)"
   ]
  },
  {
   "cell_type": "code",
   "execution_count": null,
   "metadata": {},
   "outputs": [],
   "source": [
    "da_gw_total.sel(alt = slice(60,120)).plot(x = 'time', robust = True)"
   ]
  },
  {
   "cell_type": "markdown",
   "metadata": {},
   "source": [
    "#### Climatology"
   ]
  },
  {
   "cell_type": "code",
   "execution_count": null,
   "metadata": {},
   "outputs": [],
   "source": [
    "da_gw_total_clim.sel(alt = slice(50,150)).plot(x = 'month', robust = True)"
   ]
  }
 ],
 "metadata": {
  "jupytext": {
   "formats": "ipynb,py:light"
  },
  "kernelspec": {
   "display_name": "Python 3",
   "language": "python",
   "name": "python3"
  },
  "language_info": {
   "codemirror_mode": {
    "name": "ipython",
    "version": 3
   },
   "file_extension": ".py",
   "mimetype": "text/x-python",
   "name": "python",
   "nbconvert_exporter": "python",
   "pygments_lexer": "ipython3",
   "version": "3.6.10"
  },
  "toc-autonumbering": false,
  "toc-showcode": false,
  "toc-showmarkdowntxt": true,
  "toc-showtags": false
 },
 "nbformat": 4,
 "nbformat_minor": 4
}
