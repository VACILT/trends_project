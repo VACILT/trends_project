{
 "cells": [
  {
   "cell_type": "code",
   "execution_count": 1,
   "metadata": {},
   "outputs": [],
   "source": [
    "import xarray as xr\n",
    "import xarray.ufuncs as xrf\n",
    "import numpy as np\n",
    "import matplotlib.pyplot as plt\n",
    "import pandas as pd\n",
    "import glob\n",
    "from matplotlib.legend_handler import HandlerLineCollection, HandlerTuple\n",
    "from scipy import stats"
   ]
  },
  {
   "cell_type": "code",
   "execution_count": 2,
   "metadata": {},
   "outputs": [
    {
     "data": {
      "text/html": [
       "<div><svg style=\"position: absolute; width: 0; height: 0; overflow: hidden\">\n",
       "<defs>\n",
       "<symbol id=\"icon-database\" viewBox=\"0 0 32 32\">\n",
       "<title>Show/Hide data repr</title>\n",
       "<path d=\"M16 0c-8.837 0-16 2.239-16 5v4c0 2.761 7.163 5 16 5s16-2.239 16-5v-4c0-2.761-7.163-5-16-5z\"></path>\n",
       "<path d=\"M16 17c-8.837 0-16-2.239-16-5v6c0 2.761 7.163 5 16 5s16-2.239 16-5v-6c0 2.761-7.163 5-16 5z\"></path>\n",
       "<path d=\"M16 26c-8.837 0-16-2.239-16-5v6c0 2.761 7.163 5 16 5s16-2.239 16-5v-6c0 2.761-7.163 5-16 5z\"></path>\n",
       "</symbol>\n",
       "<symbol id=\"icon-file-text2\" viewBox=\"0 0 32 32\">\n",
       "<title>Show/Hide attributes</title>\n",
       "<path d=\"M28.681 7.159c-0.694-0.947-1.662-2.053-2.724-3.116s-2.169-2.030-3.116-2.724c-1.612-1.182-2.393-1.319-2.841-1.319h-15.5c-1.378 0-2.5 1.121-2.5 2.5v27c0 1.378 1.122 2.5 2.5 2.5h23c1.378 0 2.5-1.122 2.5-2.5v-19.5c0-0.448-0.137-1.23-1.319-2.841zM24.543 5.457c0.959 0.959 1.712 1.825 2.268 2.543h-4.811v-4.811c0.718 0.556 1.584 1.309 2.543 2.268zM28 29.5c0 0.271-0.229 0.5-0.5 0.5h-23c-0.271 0-0.5-0.229-0.5-0.5v-27c0-0.271 0.229-0.5 0.5-0.5 0 0 15.499-0 15.5 0v7c0 0.552 0.448 1 1 1h7v19.5z\"></path>\n",
       "<path d=\"M23 26h-14c-0.552 0-1-0.448-1-1s0.448-1 1-1h14c0.552 0 1 0.448 1 1s-0.448 1-1 1z\"></path>\n",
       "<path d=\"M23 22h-14c-0.552 0-1-0.448-1-1s0.448-1 1-1h14c0.552 0 1 0.448 1 1s-0.448 1-1 1z\"></path>\n",
       "<path d=\"M23 18h-14c-0.552 0-1-0.448-1-1s0.448-1 1-1h14c0.552 0 1 0.448 1 1s-0.448 1-1 1z\"></path>\n",
       "</symbol>\n",
       "</defs>\n",
       "</svg>\n",
       "<style>/* CSS stylesheet for displaying xarray objects in jupyterlab.\n",
       " *\n",
       " */\n",
       "\n",
       ":root {\n",
       "  --xr-font-color0: var(--jp-content-font-color0, rgba(0, 0, 0, 1));\n",
       "  --xr-font-color2: var(--jp-content-font-color2, rgba(0, 0, 0, 0.54));\n",
       "  --xr-font-color3: var(--jp-content-font-color3, rgba(0, 0, 0, 0.38));\n",
       "  --xr-border-color: var(--jp-border-color2, #e0e0e0);\n",
       "  --xr-disabled-color: var(--jp-layout-color3, #bdbdbd);\n",
       "  --xr-background-color: var(--jp-layout-color0, white);\n",
       "  --xr-background-color-row-even: var(--jp-layout-color1, white);\n",
       "  --xr-background-color-row-odd: var(--jp-layout-color2, #eeeeee);\n",
       "}\n",
       "\n",
       ".xr-wrap {\n",
       "  min-width: 300px;\n",
       "  max-width: 700px;\n",
       "}\n",
       "\n",
       ".xr-header {\n",
       "  padding-top: 6px;\n",
       "  padding-bottom: 6px;\n",
       "  margin-bottom: 4px;\n",
       "  border-bottom: solid 1px var(--xr-border-color);\n",
       "}\n",
       "\n",
       ".xr-header > div,\n",
       ".xr-header > ul {\n",
       "  display: inline;\n",
       "  margin-top: 0;\n",
       "  margin-bottom: 0;\n",
       "}\n",
       "\n",
       ".xr-obj-type,\n",
       ".xr-array-name {\n",
       "  margin-left: 2px;\n",
       "  margin-right: 10px;\n",
       "}\n",
       "\n",
       ".xr-obj-type {\n",
       "  color: var(--xr-font-color2);\n",
       "}\n",
       "\n",
       ".xr-sections {\n",
       "  padding-left: 0 !important;\n",
       "  display: grid;\n",
       "  grid-template-columns: 150px auto auto 1fr 20px 20px;\n",
       "}\n",
       "\n",
       ".xr-section-item {\n",
       "  display: contents;\n",
       "}\n",
       "\n",
       ".xr-section-item input {\n",
       "  display: none;\n",
       "}\n",
       "\n",
       ".xr-section-item input + label {\n",
       "  color: var(--xr-disabled-color);\n",
       "}\n",
       "\n",
       ".xr-section-item input:enabled + label {\n",
       "  cursor: pointer;\n",
       "  color: var(--xr-font-color2);\n",
       "}\n",
       "\n",
       ".xr-section-item input:enabled + label:hover {\n",
       "  color: var(--xr-font-color0);\n",
       "}\n",
       "\n",
       ".xr-section-summary {\n",
       "  grid-column: 1;\n",
       "  color: var(--xr-font-color2);\n",
       "  font-weight: 500;\n",
       "}\n",
       "\n",
       ".xr-section-summary > span {\n",
       "  display: inline-block;\n",
       "  padding-left: 0.5em;\n",
       "}\n",
       "\n",
       ".xr-section-summary-in:disabled + label {\n",
       "  color: var(--xr-font-color2);\n",
       "}\n",
       "\n",
       ".xr-section-summary-in + label:before {\n",
       "  display: inline-block;\n",
       "  content: '►';\n",
       "  font-size: 11px;\n",
       "  width: 15px;\n",
       "  text-align: center;\n",
       "}\n",
       "\n",
       ".xr-section-summary-in:disabled + label:before {\n",
       "  color: var(--xr-disabled-color);\n",
       "}\n",
       "\n",
       ".xr-section-summary-in:checked + label:before {\n",
       "  content: '▼';\n",
       "}\n",
       "\n",
       ".xr-section-summary-in:checked + label > span {\n",
       "  display: none;\n",
       "}\n",
       "\n",
       ".xr-section-summary,\n",
       ".xr-section-inline-details {\n",
       "  padding-top: 4px;\n",
       "  padding-bottom: 4px;\n",
       "}\n",
       "\n",
       ".xr-section-inline-details {\n",
       "  grid-column: 2 / -1;\n",
       "}\n",
       "\n",
       ".xr-section-details {\n",
       "  display: none;\n",
       "  grid-column: 1 / -1;\n",
       "  margin-bottom: 5px;\n",
       "}\n",
       "\n",
       ".xr-section-summary-in:checked ~ .xr-section-details {\n",
       "  display: contents;\n",
       "}\n",
       "\n",
       ".xr-array-wrap {\n",
       "  grid-column: 1 / -1;\n",
       "  display: grid;\n",
       "  grid-template-columns: 20px auto;\n",
       "}\n",
       "\n",
       ".xr-array-wrap > label {\n",
       "  grid-column: 1;\n",
       "  vertical-align: top;\n",
       "}\n",
       "\n",
       ".xr-preview {\n",
       "  color: var(--xr-font-color3);\n",
       "}\n",
       "\n",
       ".xr-array-preview,\n",
       ".xr-array-data {\n",
       "  padding: 0 5px !important;\n",
       "  grid-column: 2;\n",
       "}\n",
       "\n",
       ".xr-array-data,\n",
       ".xr-array-in:checked ~ .xr-array-preview {\n",
       "  display: none;\n",
       "}\n",
       "\n",
       ".xr-array-in:checked ~ .xr-array-data,\n",
       ".xr-array-preview {\n",
       "  display: inline-block;\n",
       "}\n",
       "\n",
       ".xr-dim-list {\n",
       "  display: inline-block !important;\n",
       "  list-style: none;\n",
       "  padding: 0 !important;\n",
       "  margin: 0;\n",
       "}\n",
       "\n",
       ".xr-dim-list li {\n",
       "  display: inline-block;\n",
       "  padding: 0;\n",
       "  margin: 0;\n",
       "}\n",
       "\n",
       ".xr-dim-list:before {\n",
       "  content: '(';\n",
       "}\n",
       "\n",
       ".xr-dim-list:after {\n",
       "  content: ')';\n",
       "}\n",
       "\n",
       ".xr-dim-list li:not(:last-child):after {\n",
       "  content: ',';\n",
       "  padding-right: 5px;\n",
       "}\n",
       "\n",
       ".xr-has-index {\n",
       "  font-weight: bold;\n",
       "}\n",
       "\n",
       ".xr-var-list,\n",
       ".xr-var-item {\n",
       "  display: contents;\n",
       "}\n",
       "\n",
       ".xr-var-item > div,\n",
       ".xr-var-item label,\n",
       ".xr-var-item > .xr-var-name span {\n",
       "  background-color: var(--xr-background-color-row-even);\n",
       "  margin-bottom: 0;\n",
       "}\n",
       "\n",
       ".xr-var-item > .xr-var-name:hover span {\n",
       "  padding-right: 5px;\n",
       "}\n",
       "\n",
       ".xr-var-list > li:nth-child(odd) > div,\n",
       ".xr-var-list > li:nth-child(odd) > label,\n",
       ".xr-var-list > li:nth-child(odd) > .xr-var-name span {\n",
       "  background-color: var(--xr-background-color-row-odd);\n",
       "}\n",
       "\n",
       ".xr-var-name {\n",
       "  grid-column: 1;\n",
       "}\n",
       "\n",
       ".xr-var-dims {\n",
       "  grid-column: 2;\n",
       "}\n",
       "\n",
       ".xr-var-dtype {\n",
       "  grid-column: 3;\n",
       "  text-align: right;\n",
       "  color: var(--xr-font-color2);\n",
       "}\n",
       "\n",
       ".xr-var-preview {\n",
       "  grid-column: 4;\n",
       "}\n",
       "\n",
       ".xr-var-name,\n",
       ".xr-var-dims,\n",
       ".xr-var-dtype,\n",
       ".xr-preview,\n",
       ".xr-attrs dt {\n",
       "  white-space: nowrap;\n",
       "  overflow: hidden;\n",
       "  text-overflow: ellipsis;\n",
       "  padding-right: 10px;\n",
       "}\n",
       "\n",
       ".xr-var-name:hover,\n",
       ".xr-var-dims:hover,\n",
       ".xr-var-dtype:hover,\n",
       ".xr-attrs dt:hover {\n",
       "  overflow: visible;\n",
       "  width: auto;\n",
       "  z-index: 1;\n",
       "}\n",
       "\n",
       ".xr-var-attrs,\n",
       ".xr-var-data {\n",
       "  display: none;\n",
       "  background-color: var(--xr-background-color) !important;\n",
       "  padding-bottom: 5px !important;\n",
       "}\n",
       "\n",
       ".xr-var-attrs-in:checked ~ .xr-var-attrs,\n",
       ".xr-var-data-in:checked ~ .xr-var-data {\n",
       "  display: block;\n",
       "}\n",
       "\n",
       ".xr-var-data > table {\n",
       "  float: right;\n",
       "}\n",
       "\n",
       ".xr-var-name span,\n",
       ".xr-var-data,\n",
       ".xr-attrs {\n",
       "  padding-left: 25px !important;\n",
       "}\n",
       "\n",
       ".xr-attrs,\n",
       ".xr-var-attrs,\n",
       ".xr-var-data {\n",
       "  grid-column: 1 / -1;\n",
       "}\n",
       "\n",
       "dl.xr-attrs {\n",
       "  padding: 0;\n",
       "  margin: 0;\n",
       "  display: grid;\n",
       "  grid-template-columns: 125px auto;\n",
       "}\n",
       "\n",
       ".xr-attrs dt, dd {\n",
       "  padding: 0;\n",
       "  margin: 0;\n",
       "  float: left;\n",
       "  padding-right: 10px;\n",
       "  width: auto;\n",
       "}\n",
       "\n",
       ".xr-attrs dt {\n",
       "  font-weight: normal;\n",
       "  grid-column: 1;\n",
       "}\n",
       "\n",
       ".xr-attrs dt:hover span {\n",
       "  display: inline-block;\n",
       "  background: var(--xr-background-color);\n",
       "  padding-right: 10px;\n",
       "}\n",
       "\n",
       ".xr-attrs dd {\n",
       "  grid-column: 2;\n",
       "  white-space: pre-wrap;\n",
       "  word-break: break-all;\n",
       "}\n",
       "\n",
       ".xr-icon-database,\n",
       ".xr-icon-file-text2 {\n",
       "  display: inline-block;\n",
       "  vertical-align: middle;\n",
       "  width: 1em;\n",
       "  height: 1.5em !important;\n",
       "  stroke-width: 0;\n",
       "  stroke: currentColor;\n",
       "  fill: currentColor;\n",
       "}\n",
       "</style><div class='xr-wrap'><div class='xr-header'><div class='xr-obj-type'>xarray.Dataset</div></div><ul class='xr-sections'><li class='xr-section-item'><input id='section-3f82c84c-a4f7-4e9c-b847-98a5709d72f2' class='xr-section-summary-in' type='checkbox' disabled ><label for='section-3f82c84c-a4f7-4e9c-b847-98a5709d72f2' class='xr-section-summary'  title='Expand/collapse section'>Dimensions:</label><div class='xr-section-inline-details'><ul class='xr-dim-list'><li><span>phony_dim_0</span>: 744</li><li><span>phony_dim_1</span>: 1</li><li><span>phony_dim_2</span>: 26</li><li><span>phony_dim_3</span>: 1</li></ul></div><div class='xr-section-details'></div></li><li class='xr-section-item'><input id='section-0796b728-ad68-4a8e-b895-4b4856a69cf9' class='xr-section-summary-in' type='checkbox' disabled ><label for='section-0796b728-ad68-4a8e-b895-4b4856a69cf9' class='xr-section-summary'  title='Expand/collapse section'>Coordinates: <span>(0)</span></label><div class='xr-section-inline-details'></div><div class='xr-section-details'><ul class='xr-var-list'></ul></div></li><li class='xr-section-item'><input id='section-23bfe2e4-682d-4474-8644-6370c13b3f0d' class='xr-section-summary-in' type='checkbox'  checked><label for='section-23bfe2e4-682d-4474-8644-6370c13b3f0d' class='xr-section-summary' >Data variables: <span>(11)</span></label><div class='xr-section-inline-details'></div><div class='xr-section-details'><ul class='xr-var-list'><li class='xr-var-item'><div class='xr-var-name'><span>DOY</span></div><div class='xr-var-dims'>(phony_dim_0, phony_dim_1)</div><div class='xr-var-dtype'>float64</div><div class='xr-var-preview xr-preview'>...</div><input id='attrs-3d465f03-3cf7-46ae-9732-b4f31909508a' class='xr-var-attrs-in' type='checkbox' ><label for='attrs-3d465f03-3cf7-46ae-9732-b4f31909508a' title='Show/Hide attributes'><svg class='icon xr-icon-file-text2'><use xlink:href='#icon-file-text2'></use></svg></label><input id='data-ba4678d0-960d-4eb5-b9a3-7211c292c33c' class='xr-var-data-in' type='checkbox'><label for='data-ba4678d0-960d-4eb5-b9a3-7211c292c33c' title='Show/Hide data repr'><svg class='icon xr-icon-database'><use xlink:href='#icon-database'></use></svg></label><div class='xr-var-attrs'><dl class='xr-attrs'><dt><span>DOY :</span></dt><dd>day of year</dd></dl></div><pre class='xr-var-data'>array([[335.],\n",
       "       [335.],\n",
       "       [335.],\n",
       "       ...,\n",
       "       [365.],\n",
       "       [365.],\n",
       "       [365.]])</pre></li><li class='xr-var-item'><div class='xr-var-name'><span>alt</span></div><div class='xr-var-dims'>(phony_dim_1, phony_dim_2)</div><div class='xr-var-dtype'>float64</div><div class='xr-var-preview xr-preview'>...</div><input id='attrs-781648a6-6574-45bd-be0d-8a69cf55735e' class='xr-var-attrs-in' type='checkbox' ><label for='attrs-781648a6-6574-45bd-be0d-8a69cf55735e' title='Show/Hide attributes'><svg class='icon xr-icon-file-text2'><use xlink:href='#icon-file-text2'></use></svg></label><input id='data-cf7e6f65-492e-4548-ae78-e3034aa57887' class='xr-var-data-in' type='checkbox'><label for='data-cf7e6f65-492e-4548-ae78-e3034aa57887' title='Show/Hide data repr'><svg class='icon xr-icon-database'><use xlink:href='#icon-database'></use></svg></label><div class='xr-var-attrs'><dl class='xr-attrs'><dt><span>altitude :</span></dt><dd>altitude / km</dd></dl></div><pre class='xr-var-data'>array([[ 70.,  72.,  74.,  76.,  78.,  80.,  82.,  84.,  86.,  88.,  90.,\n",
       "         92.,  94.,  96.,  98., 100., 102., 104., 106., 108., 110., 112.,\n",
       "        114., 116., 118., 120.]])</pre></li><li class='xr-var-item'><div class='xr-var-name'><span>day</span></div><div class='xr-var-dims'>(phony_dim_0, phony_dim_1)</div><div class='xr-var-dtype'>float64</div><div class='xr-var-preview xr-preview'>...</div><input id='attrs-b481406e-c40a-479d-9ffe-3e3ce687eda2' class='xr-var-attrs-in' type='checkbox' ><label for='attrs-b481406e-c40a-479d-9ffe-3e3ce687eda2' title='Show/Hide attributes'><svg class='icon xr-icon-file-text2'><use xlink:href='#icon-file-text2'></use></svg></label><input id='data-c1f94717-96b7-4eac-a87a-3f53debacd34' class='xr-var-data-in' type='checkbox'><label for='data-c1f94717-96b7-4eac-a87a-3f53debacd34' title='Show/Hide data repr'><svg class='icon xr-icon-database'><use xlink:href='#icon-database'></use></svg></label><div class='xr-var-attrs'><dl class='xr-attrs'><dt><span>day :</span></dt><dd>vector to constuct date and time</dd></dl></div><pre class='xr-var-data'>array([[ 1.],\n",
       "       [ 1.],\n",
       "       [ 1.],\n",
       "       ...,\n",
       "       [31.],\n",
       "       [31.],\n",
       "       [31.]])</pre></li><li class='xr-var-item'><div class='xr-var-name'><span>dh_av</span></div><div class='xr-var-dims'>(phony_dim_1, phony_dim_3)</div><div class='xr-var-dtype'>float64</div><div class='xr-var-preview xr-preview'>...</div><input id='attrs-071ce160-c931-484e-b3a0-af55d847a3d0' class='xr-var-attrs-in' type='checkbox' ><label for='attrs-071ce160-c931-484e-b3a0-af55d847a3d0' title='Show/Hide attributes'><svg class='icon xr-icon-file-text2'><use xlink:href='#icon-file-text2'></use></svg></label><input id='data-75370ae8-5904-4e9e-9ef0-289d74019119' class='xr-var-data-in' type='checkbox'><label for='data-75370ae8-5904-4e9e-9ef0-289d74019119' title='Show/Hide data repr'><svg class='icon xr-icon-database'><use xlink:href='#icon-database'></use></svg></label><div class='xr-var-attrs'><dl class='xr-attrs'><dt><span>altitude window :</span></dt><dd>altitude averaging / km</dd></dl></div><pre class='xr-var-data'>array([[3.]])</pre></li><li class='xr-var-item'><div class='xr-var-name'><span>dt</span></div><div class='xr-var-dims'>(phony_dim_1, phony_dim_3)</div><div class='xr-var-dtype'>float64</div><div class='xr-var-preview xr-preview'>...</div><input id='attrs-2e0b6dcb-c115-43ac-b323-c9ac2eff4667' class='xr-var-attrs-in' type='checkbox' ><label for='attrs-2e0b6dcb-c115-43ac-b323-c9ac2eff4667' title='Show/Hide attributes'><svg class='icon xr-icon-file-text2'><use xlink:href='#icon-file-text2'></use></svg></label><input id='data-bc43670d-29ec-4264-a75e-08f7e854f26c' class='xr-var-data-in' type='checkbox'><label for='data-bc43670d-29ec-4264-a75e-08f7e854f26c' title='Show/Hide data repr'><svg class='icon xr-icon-database'><use xlink:href='#icon-database'></use></svg></label><div class='xr-var-attrs'><dl class='xr-attrs'><dt><span>time resolution :</span></dt><dd>time resolution / days</dd></dl></div><pre class='xr-var-data'>array([[0.041667]])</pre></li><li class='xr-var-item'><div class='xr-var-name'><span>dt_av</span></div><div class='xr-var-dims'>(phony_dim_1, phony_dim_3)</div><div class='xr-var-dtype'>float64</div><div class='xr-var-preview xr-preview'>...</div><input id='attrs-aa17a4a9-7eb6-4ad5-a196-9b15d1385853' class='xr-var-attrs-in' type='checkbox' ><label for='attrs-aa17a4a9-7eb6-4ad5-a196-9b15d1385853' title='Show/Hide attributes'><svg class='icon xr-icon-file-text2'><use xlink:href='#icon-file-text2'></use></svg></label><input id='data-18fb5490-3da0-44b9-9b4b-a0b304049417' class='xr-var-data-in' type='checkbox'><label for='data-18fb5490-3da0-44b9-9b4b-a0b304049417' title='Show/Hide data repr'><svg class='icon xr-icon-database'><use xlink:href='#icon-database'></use></svg></label><div class='xr-var-attrs'><dl class='xr-attrs'><dt><span>time window :</span></dt><dd>time averaging / days</dd></dl></div><pre class='xr-var-data'>array([[0.083333]])</pre></li><li class='xr-var-item'><div class='xr-var-name'><span>hour</span></div><div class='xr-var-dims'>(phony_dim_0, phony_dim_1)</div><div class='xr-var-dtype'>float64</div><div class='xr-var-preview xr-preview'>...</div><input id='attrs-39c6bd90-5785-4288-9404-13262a76a554' class='xr-var-attrs-in' type='checkbox' ><label for='attrs-39c6bd90-5785-4288-9404-13262a76a554' title='Show/Hide attributes'><svg class='icon xr-icon-file-text2'><use xlink:href='#icon-file-text2'></use></svg></label><input id='data-2257f2f9-cfcc-46e9-a2ab-d8882a702b3f' class='xr-var-data-in' type='checkbox'><label for='data-2257f2f9-cfcc-46e9-a2ab-d8882a702b3f' title='Show/Hide data repr'><svg class='icon xr-icon-database'><use xlink:href='#icon-database'></use></svg></label><div class='xr-var-attrs'><dl class='xr-attrs'><dt><span>hour :</span></dt><dd>vector to constuct date and time</dd></dl></div><pre class='xr-var-data'>array([[ 0.],\n",
       "       [ 1.],\n",
       "       [ 2.],\n",
       "       ...,\n",
       "       [21.],\n",
       "       [22.],\n",
       "       [23.]])</pre></li><li class='xr-var-item'><div class='xr-var-name'><span>min</span></div><div class='xr-var-dims'>(phony_dim_0, phony_dim_1)</div><div class='xr-var-dtype'>float64</div><div class='xr-var-preview xr-preview'>...</div><input id='attrs-23501da3-4df3-401f-a72d-8471c207ef00' class='xr-var-attrs-in' type='checkbox' ><label for='attrs-23501da3-4df3-401f-a72d-8471c207ef00' title='Show/Hide attributes'><svg class='icon xr-icon-file-text2'><use xlink:href='#icon-file-text2'></use></svg></label><input id='data-6824cf04-0faa-40d3-aa67-af1be14e5286' class='xr-var-data-in' type='checkbox'><label for='data-6824cf04-0faa-40d3-aa67-af1be14e5286' title='Show/Hide data repr'><svg class='icon xr-icon-database'><use xlink:href='#icon-database'></use></svg></label><div class='xr-var-attrs'><dl class='xr-attrs'><dt><span>minutes :</span></dt><dd>vector to constuct date and time</dd></dl></div><pre class='xr-var-data'>array([[0.],\n",
       "       [0.],\n",
       "       [0.],\n",
       "       ...,\n",
       "       [0.],\n",
       "       [0.],\n",
       "       [0.]])</pre></li><li class='xr-var-item'><div class='xr-var-name'><span>month</span></div><div class='xr-var-dims'>(phony_dim_0, phony_dim_1)</div><div class='xr-var-dtype'>float64</div><div class='xr-var-preview xr-preview'>...</div><input id='attrs-4e0755ee-e911-4345-8644-266f638d9ce9' class='xr-var-attrs-in' type='checkbox' ><label for='attrs-4e0755ee-e911-4345-8644-266f638d9ce9' title='Show/Hide attributes'><svg class='icon xr-icon-file-text2'><use xlink:href='#icon-file-text2'></use></svg></label><input id='data-b7e7c8c0-a655-492a-858d-ef1602dc07a1' class='xr-var-data-in' type='checkbox'><label for='data-b7e7c8c0-a655-492a-858d-ef1602dc07a1' title='Show/Hide data repr'><svg class='icon xr-icon-database'><use xlink:href='#icon-database'></use></svg></label><div class='xr-var-attrs'><dl class='xr-attrs'><dt><span>month :</span></dt><dd>vector to constuct date and time</dd></dl></div><pre class='xr-var-data'>array([[12.],\n",
       "       [12.],\n",
       "       [12.],\n",
       "       ...,\n",
       "       [12.],\n",
       "       [12.],\n",
       "       [12.]])</pre></li><li class='xr-var-item'><div class='xr-var-name'><span>sec</span></div><div class='xr-var-dims'>(phony_dim_0, phony_dim_1)</div><div class='xr-var-dtype'>float64</div><div class='xr-var-preview xr-preview'>...</div><input id='attrs-6bc512cb-edb8-4d3a-89d1-b75375ad41cc' class='xr-var-attrs-in' type='checkbox' ><label for='attrs-6bc512cb-edb8-4d3a-89d1-b75375ad41cc' title='Show/Hide attributes'><svg class='icon xr-icon-file-text2'><use xlink:href='#icon-file-text2'></use></svg></label><input id='data-b037fe42-8896-4527-bcef-f7cff22d64fd' class='xr-var-data-in' type='checkbox'><label for='data-b037fe42-8896-4527-bcef-f7cff22d64fd' title='Show/Hide data repr'><svg class='icon xr-icon-database'><use xlink:href='#icon-database'></use></svg></label><div class='xr-var-attrs'><dl class='xr-attrs'><dt><span>seconds :</span></dt><dd>vector to constuct date and time</dd></dl></div><pre class='xr-var-data'>array([[0.],\n",
       "       [0.],\n",
       "       [0.],\n",
       "       ...,\n",
       "       [0.],\n",
       "       [0.],\n",
       "       [0.]])</pre></li><li class='xr-var-item'><div class='xr-var-name'><span>year</span></div><div class='xr-var-dims'>(phony_dim_0, phony_dim_1)</div><div class='xr-var-dtype'>float64</div><div class='xr-var-preview xr-preview'>...</div><input id='attrs-32d17aa2-158e-4262-b3c8-7bdc022d906f' class='xr-var-attrs-in' type='checkbox' ><label for='attrs-32d17aa2-158e-4262-b3c8-7bdc022d906f' title='Show/Hide attributes'><svg class='icon xr-icon-file-text2'><use xlink:href='#icon-file-text2'></use></svg></label><input id='data-ce61973b-eed8-41c0-886d-23d9a67de4ae' class='xr-var-data-in' type='checkbox'><label for='data-ce61973b-eed8-41c0-886d-23d9a67de4ae' title='Show/Hide data repr'><svg class='icon xr-icon-database'><use xlink:href='#icon-database'></use></svg></label><div class='xr-var-attrs'><dl class='xr-attrs'><dt><span>year :</span></dt><dd>vector to constuct date and time</dd></dl></div><pre class='xr-var-data'>array([[2019.],\n",
       "       [2019.],\n",
       "       [2019.],\n",
       "       ...,\n",
       "       [2019.],\n",
       "       [2019.],\n",
       "       [2019.]])</pre></li></ul></div></li><li class='xr-section-item'><input id='section-3b8fd69d-0c9c-415a-8fbb-5e82eb0b3539' class='xr-section-summary-in' type='checkbox' disabled ><label for='section-3b8fd69d-0c9c-415a-8fbb-5e82eb0b3539' class='xr-section-summary'  title='Expand/collapse section'>Attributes: <span>(0)</span></label><div class='xr-section-inline-details'></div><div class='xr-section-details'><dl class='xr-attrs'></dl></div></li></ul></div></div>"
      ],
      "text/plain": [
       "<xarray.Dataset>\n",
       "Dimensions:  (phony_dim_0: 744, phony_dim_1: 1, phony_dim_2: 26, phony_dim_3: 1)\n",
       "Dimensions without coordinates: phony_dim_0, phony_dim_1, phony_dim_2, phony_dim_3\n",
       "Data variables:\n",
       "    DOY      (phony_dim_0, phony_dim_1) float64 ...\n",
       "    alt      (phony_dim_1, phony_dim_2) float64 ...\n",
       "    day      (phony_dim_0, phony_dim_1) float64 ...\n",
       "    dh_av    (phony_dim_1, phony_dim_3) float64 ...\n",
       "    dt       (phony_dim_1, phony_dim_3) float64 ...\n",
       "    dt_av    (phony_dim_1, phony_dim_3) float64 ...\n",
       "    hour     (phony_dim_0, phony_dim_1) float64 ...\n",
       "    min      (phony_dim_0, phony_dim_1) float64 ...\n",
       "    month    (phony_dim_0, phony_dim_1) float64 ...\n",
       "    sec      (phony_dim_0, phony_dim_1) float64 ...\n",
       "    year     (phony_dim_0, phony_dim_1) float64 ..."
      ]
     },
     "execution_count": 2,
     "metadata": {},
     "output_type": "execute_result"
    }
   ],
   "source": [
    "alt = [70, 72, 74, 76, 78, 80, 82, 84, 86, 88, 90, 92, 94, 96, 98, 100, 102, 104, \\\n",
    "       106, 108, 110, 112, 114, 116, 118, 120]\n",
    "root_path = '/home/gemeinsam_tmp/UA_students/data/'\n",
    "station = 'Dav'\n",
    "file = 'Meteor_radar_Dav_GW_201912.h5'\n",
    "xr.open_dataset( f'{root_path}{station}/{file}', group='info')#['day']\n",
    "#xr.open_dataset( '/home/gemeinsam_tmp/UA_students/data/Col/Meteor_radar_Col_GW_201903.h5', group='info')['day']"
   ]
  },
  {
   "cell_type": "markdown",
   "metadata": {},
   "source": [
    "# Meteor radars"
   ]
  },
  {
   "cell_type": "markdown",
   "metadata": {},
   "source": [
    "* Dav        Davis; GW:200501-201912\n",
    "* Col         Collm (Leipzig); GW:200408-201903\n",
    "* Rio         RioGrande (SAAMER- Argentina); GW:200802-201912\n",
    "* Sod        Sodankyla; GW:200810-201912\n",
    "* Kir          Kiruna (Sweden ? Esrange); GW:199908-201912\n",
    "* CMA      CMOR (Canada ? CMA (CMOR All) triple frequency data); GW:200201-201812\n",
    "* SES        Sodankyla ? Esrange merged (assigned either to Esrange or Sodankyla or a virtual center in between); GW:199908-201912"
   ]
  },
  {
   "cell_type": "markdown",
   "metadata": {},
   "source": [
    "\n",
    "Dav_start = '2005-01-'\n",
    "Dav_end = '2019-12-'\n",
    "Col_start = '2004-08-01'\n",
    "Col_end='2019-03-06'\n",
    "Rio_start = '2008-02-01'\n",
    "Rio_end = '2019-12-31'\n",
    "Sod_start = '2008-10-'\n",
    "Sod_end = '2019-12-'\n",
    "Kir_start = '1999-08-'\n",
    "Kir_end = '2019-12-'\n",
    "Cma_start = '2002-01-01'\n",
    "Cma_end = '2018-12-31'\n",
    "Ses_start = '1999-08-'\n",
    "Ses_end = '2019-12-'\n"
   ]
  },
  {
   "cell_type": "markdown",
   "metadata": {},
   "source": [
    "# FUNCTIONS"
   ]
  },
  {
   "cell_type": "markdown",
   "metadata": {},
   "source": [
    "### lineare regression"
   ]
  },
  {
   "cell_type": "code",
   "execution_count": 3,
   "metadata": {},
   "outputs": [],
   "source": [
    "def new_linregress(y):\n",
    "   \n",
    "    x = np.arange(y.shape[0])\n",
    "    mask = ~np.isnan(y)\n",
    "    #print('y: '+str(y))\n",
    "    #print('x: '+str(x))\n",
    "    \n",
    "    #slope, intercept, r_value, p_value, std_err = stats.linregress(x[mask], y[mask])\n",
    "    slope, intercept, r_value, p_value, std_err = stats.linregress(x, y)\n",
    "\n",
    "    return np.array([slope, intercept, r_value, p_value, std_err])\n",
    "    \n",
    "\n",
    "def new_linregress_masked(y):\n",
    "   \n",
    "    \n",
    "    mask = ~np.isnan(y)\n",
    "    #print('y: '+str(y))\n",
    "    #print('x: '+str(x))\n",
    "    \n",
    "    slope, intercept, r_value, p_value, std_err = stats.linregress(x[mask], y[mask])\n",
    "    #slope, intercept, r_value, p_value, std_err = stats.linregress(x, y)\n",
    "\n",
    "    return np.array([slope, intercept, r_value, p_value, std_err])\n",
    "    \n",
    "\n",
    "def time_reg(var):\n",
    "        #print('var:'+str(var.values))\n",
    "        statistics = xr.apply_ufunc(new_linregress, var, \n",
    "                       input_core_dims=[['time']],\n",
    "                       output_core_dims=[[\"parameter\"]],\n",
    "                       vectorize=True,\n",
    "                       dask=\"allowed\", \n",
    "                       output_dtypes=['float64'],\n",
    "                       output_sizes={\"parameter\": 5},\n",
    "                      )\n",
    "        return statistics\n",
    "\n",
    "def time_reg_masked(var):\n",
    "        #print('var:'+str(var.values))\n",
    "        statistics = xr.apply_ufunc(new_linregress_masked, var, \n",
    "                       input_core_dims=[['time']],\n",
    "                       output_core_dims=[[\"parameter\"]],\n",
    "                       vectorize=True,\n",
    "                       dask=\"allowed\",\n",
    "                       output_dtypes=['float64'],\n",
    "                       #output_sizes={\"parameter\": 5},\n",
    "                      )\n",
    "        return statistics\n",
    "\n",
    "def is_mon(month,sta,end):\n",
    "    return (month >= sta) & (month <= end)"
   ]
  },
  {
   "cell_type": "markdown",
   "metadata": {},
   "source": [
    "### Variable einlesen"
   ]
  },
  {
   "cell_type": "code",
   "execution_count": 4,
   "metadata": {},
   "outputs": [],
   "source": [
    "def read_group(gruppe,loc):\n",
    "    station = loc#ersten Buchstaben bitte bitte groß schreiben\n",
    "    \n",
    "    if loc=='Rio':\n",
    "        timestart = '2008-02-01'\n",
    "        timeend = '2019-12-31'\n",
    "    elif loc == 'Col':\n",
    "        timestart =  '2004-08-01'\n",
    "        timeend =  '2019-03-06'\n",
    "    elif loc=='CMA':\n",
    "        timestart = '2002-01-01'\n",
    "        timeend = '2018-12-31'    \n",
    "\n",
    "    elif loc=='Kir':\n",
    "        timestart = '1999-08-01'\n",
    "        timeend = '2018-12-31'\n",
    "        \n",
    "    elif loc=='Dav':\n",
    "        timestart = '2005-01-01'\n",
    "        timeend = '2019-12-31'   \n",
    "        \n",
    "        \n",
    "    infiles = f'{root_path}{station}/Meteor_radar_{station}_GW_*.h5'\n",
    "    ds = xr.open_mfdataset(infiles, concat_dim = 'phony_dim_6', group = gruppe, combine='nested',parallel = True)\n",
    "    ds = ds.rename({'phony_dim_6': 'time', 'phony_dim_7': 'alt'})\n",
    "    #ds=ds.chunk({'alt': 12})\n",
    "    ds['alt'] = alt\n",
    "    ds['alt'].attrs['units'] = 'km'\n",
    "    # change time range according to meteor radar station\n",
    "    ds['time'] = pd.date_range(start = timestart, end = timeend, periods = ds.time.shape[0]) \n",
    "    return ds\n",
    "    \n",
    "    "
   ]
  },
  {
   "cell_type": "code",
   "execution_count": 5,
   "metadata": {},
   "outputs": [],
   "source": [
    "def read_var(gruppe, var):\n",
    "        varout = gruppe[var]\n",
    "        return varout"
   ]
  },
  {
   "cell_type": "markdown",
   "metadata": {},
   "source": [
    "### Horizontal Wind"
   ]
  },
  {
   "cell_type": "code",
   "execution_count": 6,
   "metadata": {},
   "outputs": [],
   "source": [
    "def hwind(u,v):\n",
    "    return np.sqrt(u**2+v**2)\n",
    "    "
   ]
  },
  {
   "cell_type": "markdown",
   "metadata": {},
   "source": [
    "### time mean"
   ]
  },
  {
   "cell_type": "code",
   "execution_count": 7,
   "metadata": {},
   "outputs": [],
   "source": [
    "def time_mean(step,var):\n",
    "    return var.resample(time='1'+step).mean('time') #Immer nur D oder M oder H oder Y eintragen! Mit Anführungszeichen!\n",
    "    \n",
    "    "
   ]
  },
  {
   "cell_type": "markdown",
   "metadata": {},
   "source": [
    "### Amomalies"
   ]
  },
  {
   "cell_type": "code",
   "execution_count": 8,
   "metadata": {},
   "outputs": [],
   "source": [
    "def anomalie(step,var):\n",
    "    string = \"time.\"+step   \n",
    "    climatology = var.groupby(string).mean(\"time\")\n",
    "    anomalies = var.groupby(string) - climatology\n",
    "    \n",
    "    return anomalies\n",
    "\n",
    "\n"
   ]
  },
  {
   "cell_type": "markdown",
   "metadata": {},
   "source": [
    "## Radar Measurements"
   ]
  },
  {
   "cell_type": "code",
   "execution_count": 9,
   "metadata": {},
   "outputs": [],
   "source": [
    "station = 'Kir'\n",
    "ds_radar= read_group('wind',station)\n",
    "u_radar = read_var(ds_radar,'u')  \n",
    "v_radar = read_var(ds_radar,'v')\n",
    "\n",
    "u_radar_monano = anomalie('month',u_radar)\n",
    "v_radar_monano = anomalie('month',v_radar)\n",
    "\n",
    "u_radar_monthly_ano = time_mean('M',u_radar_monano)\n",
    "v_radar_monthly_ano = time_mean('M',v_radar_monano)\n",
    "\n",
    "u_radar_monthly = time_mean('M',u_radar)\n",
    "v_radar_monthly = time_mean('M',v_radar)\n",
    "\n",
    "u_radar_yearano = anomalie('month',u_radar)\n",
    "v_radar_yearano = anomalie('month',v_radar)\n",
    "\n",
    "u_radar_yearly_ano = time_mean('Y',u_radar_yearano)\n",
    "v_radar_yearly_ano = time_mean('Y',v_radar_yearano)"
   ]
  },
  {
   "cell_type": "code",
   "execution_count": 10,
   "metadata": {},
   "outputs": [
    {
     "name": "stderr",
     "output_type": "stream",
     "text": [
      "/home/hochatmstud/.conda/envs/uas/lib/python3.6/site-packages/dask/array/numpy_compat.py:40: RuntimeWarning: invalid value encountered in true_divide\n",
      "  x = np.divide(x1, x2, out)\n",
      "/home/hochatmstud/.conda/envs/uas/lib/python3.6/site-packages/dask/array/numpy_compat.py:40: RuntimeWarning: invalid value encountered in true_divide\n",
      "  x = np.divide(x1, x2, out)\n"
     ]
    },
    {
     "data": {
      "text/plain": [
       "[<matplotlib.lines.Line2D at 0x7f08742f2630>,\n",
       " <matplotlib.lines.Line2D at 0x7f08b4767438>]"
      ]
     },
     "execution_count": 10,
     "metadata": {},
     "output_type": "execute_result"
    },
    {
     "data": {
      "image/png": "[encoded data removed]",
      "text/plain": [
       "<Figure size 1080x648 with 2 Axes>"
      ]
     },
     "metadata": {
      "needs_background": "light"
     },
     "output_type": "display_data"
    }
   ],
   "source": [
    "fig = plt.figure(constrained_layout=True,figsize = [15,9])\n",
    "\n",
    "windsel=u_radar_monthly_ano.sel(alt = [103,108], method = 'nearest')\n",
    "ax1 = fig.add_subplot(121)\n",
    "ax1.plot(u_radar_monthly_ano.time,windsel)\n",
    "\n",
    "windsel=v_radar_monthly_ano.sel(alt = [103,108], method = 'nearest')\n",
    "ax2 = fig.add_subplot(122)\n",
    "ax2.plot(u_radar_monthly.time,windsel)\n"
   ]
  },
  {
   "cell_type": "code",
   "execution_count": 11,
   "metadata": {},
   "outputs": [
    {
     "name": "stdout",
     "output_type": "stream",
     "text": [
      "<xarray.DataArray 'u' (time: 233, alt: 26)>\n",
      "dask.array<stack, shape=(233, 26), dtype=float64, chunksize=(1, 26), chunktype=numpy.ndarray>\n",
      "Coordinates:\n",
      "  * time     (time) datetime64[ns] 1999-08-31 1999-09-30 ... 2018-12-31\n",
      "  * alt      (alt) int64 70 72 74 76 78 80 82 84 ... 108 110 112 114 116 118 120\n"
     ]
    },
    {
     "name": "stderr",
     "output_type": "stream",
     "text": [
      "/home/hochatmstud/.conda/envs/uas/lib/python3.6/site-packages/dask/array/numpy_compat.py:40: RuntimeWarning: invalid value encountered in true_divide\n",
      "  x = np.divide(x1, x2, out)\n",
      "/home/hochatmstud/.conda/envs/uas/lib/python3.6/site-packages/dask/array/numpy_compat.py:40: RuntimeWarning: invalid value encountered in true_divide\n",
      "  x = np.divide(x1, x2, out)\n"
     ]
    },
    {
     "data": {
      "text/plain": [
       "[<matplotlib.lines.Line2D at 0x7f08f40a20b8>]"
      ]
     },
     "execution_count": 11,
     "metadata": {},
     "output_type": "execute_result"
    },
    {
     "data": {
      "image/png": "[encoded data removed]",
      "text/plain": [
       "<Figure size 1080x648 with 2 Axes>"
      ]
     },
     "metadata": {
      "needs_background": "light"
     },
     "output_type": "display_data"
    }
   ],
   "source": [
    "fig = plt.figure(constrained_layout=True,figsize = [15,9])\n",
    "\n",
    "\n",
    "ax1 = fig.add_subplot(121)\n",
    "x = np.arange(u_radar_monthly.time.shape[0])\n",
    "print(u_radar_monthly)\n",
    "statistics = time_reg(u_radar_monthly)\n",
    "statistics['parameter'] = ['slope', 'intercept', 'r_value','p_value', 'std_err']\n",
    "ax1.plot(u_radar_monthly.alt,statistics.sel(parameter='slope').where(statistics.sel(parameter='p_value')<= 0.05))\n",
    "\n",
    "\n",
    "\n",
    "\n",
    "ax2 = fig.add_subplot(122)\n",
    "x = np.arange(v_radar_monthly.time.shape[0])\n",
    "statistics = time_reg(v_radar_monthly)\n",
    "statistics['parameter'] = ['slope', 'intercept', 'r_value','p_value', 'std_err']\n",
    "ax2.plot(v_radar_monthly.alt,statistics.sel(parameter='slope').where(statistics.sel(parameter='p_value')<= 0.05))"
   ]
  },
  {
   "cell_type": "markdown",
   "metadata": {},
   "source": [
    "### look at specific months"
   ]
  },
  {
   "cell_type": "code",
   "execution_count": 12,
   "metadata": {},
   "outputs": [],
   "source": [
    "#Analyse Months seperatly\n",
    "s = 3\n",
    "e = 3\n",
    "u_radar_examon = u_radar_monthly_ano.sel(time=is_mon(u_radar_monthly_ano['time.month'],s,e))\n",
    "v_radar_examon = v_radar_monthly_ano.sel(time=is_mon(v_radar_monthly_ano['time.month'],s,e))\n",
    "\n",
    "\n",
    "x = np.arange(u_radar_examon.time.shape[0])\n"
   ]
  },
  {
   "cell_type": "code",
   "execution_count": 13,
   "metadata": {},
   "outputs": [
    {
     "name": "stderr",
     "output_type": "stream",
     "text": [
      "/home/hochatmstud/.conda/envs/uas/lib/python3.6/site-packages/dask/array/numpy_compat.py:40: RuntimeWarning: invalid value encountered in true_divide\n",
      "  x = np.divide(x1, x2, out)\n",
      "/home/hochatmstud/.conda/envs/uas/lib/python3.6/site-packages/dask/array/numpy_compat.py:40: RuntimeWarning: invalid value encountered in true_divide\n",
      "  x = np.divide(x1, x2, out)\n"
     ]
    },
    {
     "data": {
      "text/plain": [
       "Text(0, 0.5, 'Slope')"
      ]
     },
     "execution_count": 13,
     "metadata": {},
     "output_type": "execute_result"
    },
    {
     "data": {
      "image/png": "[encoded data removed]",
      "text/plain": [
       "<Figure size 1080x648 with 2 Axes>"
      ]
     },
     "metadata": {
      "needs_background": "light"
     },
     "output_type": "display_data"
    }
   ],
   "source": [
    "#plot STATISTICS\n",
    "\n",
    "fig = plt.figure(constrained_layout=True,figsize = [15,9])\n",
    "\n",
    "\n",
    "ax1 = fig.add_subplot(121)\n",
    "x = np.arange(np.squeeze(u_radar_examon.time.shape))\n",
    "u_statistics = time_reg(u_radar_examon)\n",
    "#u_statistics = time_reg_masked(u_radar_examon)\n",
    "\n",
    "u_statistics['parameter'] = ['slope', 'intercept', 'r_value','p_value', 'std_err']\n",
    "ax1.plot(u_radar_examon.alt,u_statistics.sel(parameter='slope').where(u_statistics.sel(parameter='p_value')<= 0.999))\n",
    "ax1.grid()\n",
    "\n",
    "ax2 = fig.add_subplot(122)\n",
    "x = np.arange(np.squeeze(v_radar_examon.time.shape))\n",
    "v_statistics = time_reg(v_radar_examon)\n",
    "#v_statistics = time_reg_masked(v_radar_examon)\n",
    "\n",
    "v_statistics['parameter'] = ['slope', 'intercept', 'r_value','p_value', 'std_err']\n",
    "ax2.plot(v_radar_examon.alt,v_statistics.sel(parameter='slope').where(v_statistics.sel(parameter='p_value')<= 0.000))\n",
    "ax2.grid()\n",
    "\n",
    "ax1.set_xlabel('Altitude')\n",
    "ax2.set_xlabel('Altitude')\n",
    "ax1.set_ylabel('Slope')\n",
    "\n"
   ]
  },
  {
   "cell_type": "code",
   "execution_count": 14,
   "metadata": {},
   "outputs": [
    {
     "name": "stdout",
     "output_type": "stream",
     "text": [
      "<xarray.DataArray 'u' (alt: 1)>\n",
      "array([nan])\n",
      "Coordinates:\n",
      "  * alt        (alt) int64 90\n",
      "    parameter  <U9 'slope'\n",
      "<xarray.DataArray 'v' (alt: 1)>\n",
      "array([nan])\n",
      "Coordinates:\n",
      "  * alt        (alt) int64 98\n",
      "    parameter  <U9 'slope'\n"
     ]
    },
    {
     "name": "stderr",
     "output_type": "stream",
     "text": [
      "/home/hochatmstud/.conda/envs/uas/lib/python3.6/site-packages/dask/array/numpy_compat.py:40: RuntimeWarning: invalid value encountered in true_divide\n",
      "  x = np.divide(x1, x2, out)\n",
      "/home/hochatmstud/.conda/envs/uas/lib/python3.6/site-packages/dask/array/numpy_compat.py:40: RuntimeWarning: invalid value encountered in true_divide\n",
      "  x = np.divide(x1, x2, out)\n"
     ]
    },
    {
     "data": {
      "text/plain": [
       "Text(0, 0.5, 'Monthly averaged wind speed')"
      ]
     },
     "execution_count": 14,
     "metadata": {},
     "output_type": "execute_result"
    },
    {
     "data": {
      "image/png": "[encoded data removed]",
      "text/plain": [
       "<Figure size 1080x648 with 2 Axes>"
      ]
     },
     "metadata": {
      "needs_background": "light"
     },
     "output_type": "display_data"
    }
   ],
   "source": [
    "#plot actual DATA\n",
    "\n",
    "fig = plt.figure(constrained_layout=True,figsize = [15,9])\n",
    "z = 90\n",
    "m = (u_statistics.sel(parameter='slope',alt=[z]))\n",
    "print(m)\n",
    "n = (u_statistics.sel(parameter='intercept',alt=[z]))\n",
    "reg = [m*i+n for i in x]\n",
    "\n",
    "windsel=u_radar_examon.sel(alt = [z], method = 'nearest')\n",
    "ax1 = fig.add_subplot(121)\n",
    "ax1.plot(u_radar_examon.time,windsel)\n",
    "ax1.plot(u_radar_examon.time,reg)\n",
    "\n",
    "ax1.grid()\n",
    "\n",
    "z = 98\n",
    "m = (v_statistics.sel(parameter='slope',alt=[z]))\n",
    "print(m)\n",
    "n = (v_statistics.sel(parameter='intercept',alt=[z]))\n",
    "reg = [m*i+n for i in x]\n",
    "windsel=v_radar_examon.sel(alt = [z], method = 'nearest')\n",
    "ax2 = fig.add_subplot(122)\n",
    "ax2.plot(v_radar_examon.time,windsel)\n",
    "ax2.plot(u_radar_examon.time,reg)\n",
    "ax2.grid()\n",
    "\n",
    "\n",
    "ax1.set_xlabel('Time')\n",
    "ax2.set_xlabel('Time')\n",
    "ax1.set_ylabel('Monthly averaged wind speed')\n"
   ]
  },
  {
   "cell_type": "markdown",
   "metadata": {},
   "source": [
    "### Contourplos for Radar"
   ]
  },
  {
   "cell_type": "code",
   "execution_count": null,
   "metadata": {},
   "outputs": [
    {
     "name": "stderr",
     "output_type": "stream",
     "text": [
      "/home/hochatmstud/.conda/envs/uas/lib/python3.6/site-packages/dask/array/numpy_compat.py:40: RuntimeWarning: invalid value encountered in true_divide\n",
      "  x = np.divide(x1, x2, out)\n",
      "/home/hochatmstud/.conda/envs/uas/lib/python3.6/site-packages/dask/array/numpy_compat.py:40: RuntimeWarning: invalid value encountered in true_divide\n",
      "  x = np.divide(x1, x2, out)\n",
      "/home/hochatmstud/.conda/envs/uas/lib/python3.6/site-packages/dask/array/numpy_compat.py:40: RuntimeWarning: invalid value encountered in true_divide\n",
      "  x = np.divide(x1, x2, out)\n",
      "/home/hochatmstud/.conda/envs/uas/lib/python3.6/site-packages/dask/array/numpy_compat.py:40: RuntimeWarning: invalid value encountered in true_divide\n",
      "  x = np.divide(x1, x2, out)\n",
      "/home/hochatmstud/.conda/envs/uas/lib/python3.6/site-packages/dask/array/numpy_compat.py:40: RuntimeWarning: invalid value encountered in true_divide\n",
      "  x = np.divide(x1, x2, out)\n",
      "/home/hochatmstud/.conda/envs/uas/lib/python3.6/site-packages/dask/array/numpy_compat.py:40: RuntimeWarning: invalid value encountered in true_divide\n",
      "  x = np.divide(x1, x2, out)\n",
      "/home/hochatmstud/.conda/envs/uas/lib/python3.6/site-packages/dask/array/numpy_compat.py:40: RuntimeWarning: invalid value encountered in true_divide\n",
      "  x = np.divide(x1, x2, out)\n",
      "/home/hochatmstud/.conda/envs/uas/lib/python3.6/site-packages/dask/array/numpy_compat.py:40: RuntimeWarning: invalid value encountered in true_divide\n",
      "  x = np.divide(x1, x2, out)\n",
      "/home/hochatmstud/.conda/envs/uas/lib/python3.6/site-packages/dask/array/numpy_compat.py:40: RuntimeWarning: invalid value encountered in true_divide\n",
      "  x = np.divide(x1, x2, out)\n",
      "/home/hochatmstud/.conda/envs/uas/lib/python3.6/site-packages/dask/array/numpy_compat.py:40: RuntimeWarning: invalid value encountered in true_divide\n",
      "  x = np.divide(x1, x2, out)\n",
      "/home/hochatmstud/.conda/envs/uas/lib/python3.6/site-packages/dask/array/numpy_compat.py:40: RuntimeWarning: invalid value encountered in true_divide\n",
      "  x = np.divide(x1, x2, out)\n"
     ]
    }
   ],
   "source": [
    "u_statistics = time_reg(u_radar_monthly_ano.groupby('time.month'))\n",
    "u_statistics['parameter'] = ['slope', 'intercept', 'r_value','p_value', 'std_err']\n",
    "\n",
    "\n",
    "#u\n",
    "temp = u_statistics.sel(parameter='slope', alt = slice(60,120)) \n",
    "temp.attrs['units'] = 'm/s'\n",
    "p = temp.plot(x='month',figsize = [15,9])\n",
    "ax = p.axes\n",
    "plot_kwargs2 = dict(x ='month',levels = [0,0.05], hatches = ['\\\\\\\\',None], colors='none', add_colorbar=False)\n",
    "da_pv = u_statistics.sel(parameter='p_value')\n",
    "da_pv.plot.contourf(ax = ax, **plot_kwargs2)\n",
    "plot_kwargs2['levels'] = [0,0.01]\n",
    "plot_kwargs2['hatches'] = ['////',None]\n",
    "da_pv.plot.contourf(ax = ax, **plot_kwargs2)\n",
    "ax.set_title('RADAR')\n",
    "ax.figure.savefig('results/cont_u_radar_'+station+'.png')"
   ]
  },
  {
   "cell_type": "code",
   "execution_count": null,
   "metadata": {},
   "outputs": [],
   "source": [
    "v_statistics = time_reg(v_radar_monthly_ano.groupby('time.month'))\n",
    "v_statistics['parameter'] = ['slope', 'intercept', 'r_value','p_value', 'std_err']\n",
    "\n",
    "\n",
    "#u\n",
    "temp = v_statistics.sel(parameter='slope', alt = slice(60,120)) \n",
    "temp.attrs['units'] = 'm/s'\n",
    "p = temp.plot(x='month',figsize = [15,9])\n",
    "ax = p.axes\n",
    "plot_kwargs2 = dict(x ='month',levels = [0,0.05], hatches = ['\\\\\\\\',None], colors='none', add_colorbar=False)\n",
    "da_pv = v_statistics.sel(parameter='p_value')\n",
    "da_pv.plot.contourf(ax = ax, **plot_kwargs2)\n",
    "plot_kwargs2['levels'] = [0,0.01]\n",
    "plot_kwargs2['hatches'] = ['////',None]\n",
    "da_pv.plot.contourf(ax = ax, **plot_kwargs2)\n",
    "ax.set_title('RADAR')\n",
    "ax.figure.savefig('results/cont_v_radar_'+station+'.png')"
   ]
  },
  {
   "cell_type": "markdown",
   "metadata": {},
   "source": [
    "# GAIA"
   ]
  },
  {
   "cell_type": "markdown",
   "metadata": {},
   "source": [
    "## Functions for GAIA"
   ]
  },
  {
   "cell_type": "code",
   "execution_count": null,
   "metadata": {},
   "outputs": [],
   "source": [
    "root_path = '/home/gemeinsam_tmp/UA_students/data/'\n",
    "fname = ''"
   ]
  },
  {
   "cell_type": "code",
   "execution_count": null,
   "metadata": {},
   "outputs": [],
   "source": [
    "def read_gaia_group(gruppe,loc):\n",
    "   \n",
    "    if loc=='Rio':\n",
    "        timestart = '2008-02-01'\n",
    "        timeend = '2019-12-31'\n",
    "        fname = 'GAIA_Rio_20080201_20141231_run20200603.nc'\n",
    "    \n",
    "    elif loc == 'Col':\n",
    "        timestart =  '2004-08-01'\n",
    "        timeend =  '2017-12-31'\n",
    "        fname= 'GAIA_Col_20040801_20171231_run20200604.nc'\n",
    "    \n",
    "    elif loc=='CMA':\n",
    "        timestart = '2002-01-01'\n",
    "        timeend = '2018-12-31'\n",
    "        fname = 'GAIA_CMA_20020101_20171231_run20200531.nc'\n",
    "    elif loc=='Kir':\n",
    "        timestart = '1999-08-01'\n",
    "        timeend = '2017-12-31'\n",
    "        fname = 'GAIA_Kir_19990801_20171231_run20200605.nc'    \n",
    "    elif loc=='Dav':\n",
    "        timestart = '2005-01-01'\n",
    "        timeend = '2017-12-31'\n",
    "        fname = 'GAIA_Dav_20050101_20171231_run20200604.nc'  \n",
    "    \n",
    "    infile = f'{root_path}{fname}'\n",
    "    ds = xr.open_dataset(infile, group=gruppe)\n",
    "    ds['time'] = pd.date_range(start = timestart, end = timeend, periods=ds.time.shape[0])\n",
    "    ds = ds.chunk({'alt': 12})\n",
    "    return ds"
   ]
  },
  {
   "cell_type": "markdown",
   "metadata": {},
   "source": [
    "## Gaia Simulations"
   ]
  },
  {
   "cell_type": "code",
   "execution_count": null,
   "metadata": {},
   "outputs": [],
   "source": [
    "#station = 'Col'\n",
    "ds = read_gaia_group('GAIA',station)\n",
    "#print(ds)\n",
    "u_gaia = ds.u\n",
    "v_gaia = ds.v\n",
    "\n",
    "#print('I reach this line...')\n",
    "u_gaia_monano = anomalie('month',u_gaia)\n",
    "#print('...And now also this one')\n",
    "v_gaia_monano = anomalie('month',v_gaia)\n",
    "\n",
    "u_gaia_monthly_ano = time_mean('M',u_gaia_monano)\n",
    "v_gaia_monthly_ano = time_mean('M',v_gaia_monano)\n",
    "\n",
    "u_gaia_monthly = time_mean('M',u_gaia)\n",
    "v_gaia_monthly = time_mean('M',v_gaia)\n"
   ]
  },
  {
   "cell_type": "code",
   "execution_count": null,
   "metadata": {},
   "outputs": [],
   "source": [
    "#u_statistics.sel(parameter='slope')"
   ]
  },
  {
   "cell_type": "code",
   "execution_count": null,
   "metadata": {},
   "outputs": [],
   "source": [
    "#u_statistics = time_reg(u_gaia_monthly_ano.groupby('time.month'))\n",
    "#u_statistics['parameter'] = ['slope', 'intercept', 'r_value','p_value', 'std_err']\n"
   ]
  },
  {
   "cell_type": "code",
   "execution_count": null,
   "metadata": {},
   "outputs": [],
   "source": [
    "fig = plt.figure(constrained_layout=True,figsize = [15,9])\n",
    "\n",
    "x = np.arange(u_gaia_monthly_ano.time.shape[0])\n",
    "ax1 = fig.add_subplot(121)\n",
    "u_statistics = time_reg(u_gaia_monthly_ano)\n",
    "u_statistics['parameter'] = ['slope', 'intercept', 'r_value','p_value', 'std_err']\n",
    "ax1.plot(u_gaia_monthly.alt,u_statistics.sel(parameter='slope').where(u_statistics.sel(parameter='p_value')<= 0.05))\n",
    "ax1.grid()\n",
    "\n",
    "x = np.arange(v_gaia_monthly_ano.time.shape[0])\n",
    "ax2 = fig.add_subplot(122)\n",
    "v_statistics = time_reg(v_gaia_monthly_ano)\n",
    "v_statistics['parameter'] = ['slope', 'intercept', 'r_value','p_value', 'std_err']\n",
    "ax2.plot(v_gaia_monthly.alt,v_statistics.sel(parameter='slope').where(v_statistics.sel(parameter='p_value')<= 0.05))\n",
    "ax2.grid()\n"
   ]
  },
  {
   "cell_type": "markdown",
   "metadata": {},
   "source": [
    "### Contour plots for Gaia"
   ]
  },
  {
   "cell_type": "code",
   "execution_count": null,
   "metadata": {},
   "outputs": [],
   "source": [
    "u_statistics = time_reg(u_gaia_monthly_ano.groupby('time.month'))\n",
    "u_statistics['parameter'] = ['slope', 'intercept', 'r_value','p_value', 'std_err']\n",
    "\n",
    "\n",
    "#u\n",
    "temp = u_statistics.sel(parameter='slope', alt = slice(60,120)) \n",
    "temp.attrs['units'] = 'm/s'\n",
    "p = temp.plot(x='month',figsize = [15,9])\n",
    "ax = p.axes\n",
    "plot_kwargs2 = dict(x ='month',levels = [0,0.05], hatches = ['\\\\\\\\',None], colors='none', add_colorbar=False)\n",
    "da_pv = u_statistics.sel(parameter='p_value')\n",
    "da_pv.plot.contourf(ax = ax, **plot_kwargs2)\n",
    "plot_kwargs2['levels'] = [0,0.01]\n",
    "plot_kwargs2['hatches'] = ['////',None]\n",
    "da_pv.plot.contourf(ax = ax, **plot_kwargs2)\n",
    "ax.set_title('GAIA')\n",
    "ax.figure.savefig('results/cont_u_gaia_'+station+'.png')"
   ]
  },
  {
   "cell_type": "code",
   "execution_count": null,
   "metadata": {},
   "outputs": [],
   "source": [
    "#v\n",
    "v_statistics = time_reg(v_gaia_monthly_ano.groupby('time.month'))\n",
    "v_statistics['parameter'] = ['slope', 'intercept', 'r_value','p_value', 'std_err']\n",
    "\n",
    "temp = v_statistics.sel(parameter='slope', alt = slice(60,120)) \n",
    "temp.attrs['units'] = 'm/s'\n",
    "p = temp.plot(x='month',figsize = [15,9])\n",
    "ax = p.axes\n",
    "plot_kwargs2 = dict(x ='month',levels = [0,0.05], hatches = ['\\\\\\\\',None], colors='none', add_colorbar=False)\n",
    "da_pv = v_statistics.sel(parameter='p_value')\n",
    "da_pv.plot.contourf(ax = ax, **plot_kwargs2)\n",
    "plot_kwargs2['levels'] = [0,0.01]\n",
    "plot_kwargs2['hatches'] = ['////',None]\n",
    "da_pv.plot.contourf(ax = ax, **plot_kwargs2)\n",
    "ax.set_title('GAIA')\n",
    "ax.figure.savefig('results/cont_gaia_v_'+station+'.png')"
   ]
  },
  {
   "cell_type": "code",
   "execution_count": null,
   "metadata": {},
   "outputs": [],
   "source": [
    "fig = plt.figure(constrained_layout=True,figsize = [15,9])\n",
    "\n",
    "windsel=u_gaia_monthly_ano.sel(alt = [100,110], method = 'nearest')\n",
    "ax1 = fig.add_subplot(121)\n",
    "ax1.plot(u_gaia_monthly_ano.time,windsel)\n",
    "\n",
    "windsel=v_gaia_monthly_ano.sel(alt = [100,110], method = 'nearest')\n",
    "ax2 = fig.add_subplot(122)\n",
    "ax2.plot(v_gaia_monthly_ano.time,windsel)\n"
   ]
  },
  {
   "cell_type": "markdown",
   "metadata": {},
   "source": [
    "### Analyzing specific months from GAIA-COLLM"
   ]
  },
  {
   "cell_type": "code",
   "execution_count": null,
   "metadata": {},
   "outputs": [],
   "source": [
    "#Analyse Months seperatly\n",
    "s = 1\n",
    "e = 1\n",
    "u_gaia_examon = u_gaia_monthly_ano.sel(time=is_mon(u_gaia_monthly_ano['time.month'],s,e))\n",
    "v_gaia_examon = v_gaia_monthly_ano.sel(time=is_mon(v_gaia_monthly_ano['time.month'],s,e))\n",
    "\n",
    "\n",
    "x = np.arange(u_gaia_examon.time.shape[0])"
   ]
  },
  {
   "cell_type": "code",
   "execution_count": null,
   "metadata": {},
   "outputs": [],
   "source": [
    "fig = plt.figure(constrained_layout=True,figsize = [15,9])\n",
    "\n",
    "\n",
    "ax1 = fig.add_subplot(121)\n",
    "x = np.arange(np.squeeze(u_gaia_examon.time.shape))\n",
    "#print('ucol_gaiaexamon: '+str(u_gaia_examon))\n",
    "u_statistics_gaia = time_reg(u_gaia_examon)\n",
    "u_statistics_gaia['parameter'] = ['slope', 'intercept', 'r_value','p_value', 'std_err']\n",
    "ax1.plot(u_gaia_examon.alt,u_statistics_gaia.sel(parameter='slope').where(u_statistics_gaia.sel(parameter='p_value')<= 0.05))\n",
    "ax1.grid()\n",
    "\n",
    "\n",
    "ax2 = fig.add_subplot(122)\n",
    "x = np.arange(np.squeeze(v_gaia_examon.time.shape))\n",
    "v_statistics_gaia = time_reg(v_gaia_examon)\n",
    "v_statistics_gaia['parameter'] = ['slope', 'intercept', 'r_value','p_value', 'std_err']\n",
    "ax2.plot(v_gaia_examon.alt,v_statistics_gaia.sel(parameter='slope').where(v_statistics_gaia.sel(parameter='p_value')<= 0.05))\n",
    "ax2.grid()\n",
    "\n",
    "ax1.set_xlabel('Altitude')\n",
    "ax2.set_xlabel('Altitude')\n",
    "ax1.set_ylabel('Slope')\n",
    "plt.savefig('test.png', bbox_inches='tight')"
   ]
  },
  {
   "cell_type": "code",
   "execution_count": null,
   "metadata": {
    "scrolled": true
   },
   "outputs": [],
   "source": [
    "#plot actual DATA\n",
    "z = 106\n",
    "\n",
    "fig = plt.figure(constrained_layout=True,figsize = [15,9])\n",
    "m_gaia = (u_statistics_gaia.sel(parameter='slope',alt=[z]))\n",
    "\n",
    "n_gaia = (u_statistics_gaia.sel(parameter='intercept',alt=[z]))\n",
    "reg_gaia = [m_gaia*i+n_gaia for i in x]\n",
    "\n",
    "windsel_gaia=u_gaia_examon.sel(alt = [z], method = 'nearest')\n",
    "ax1 = fig.add_subplot(121)\n",
    "ax1.plot(u_gaia_examon.time,windsel_gaia)\n",
    "ax1.plot(u_gaia_examon.time,reg_gaia)\n",
    "\n",
    "ax1.grid()\n",
    "\n",
    "z = 106\n",
    "m_gaia = (v_statistics_gaia.sel(parameter='slope',alt=[z]))\n",
    "\n",
    "n_gaia = (v_statistics_gaia.sel(parameter='intercept',alt=[z]))\n",
    "reg_gaia = [m_gaia*i+n_gaia for i in x]\n",
    "windsel_gaia=v_gaia_examon.sel(alt = [z], method = 'nearest')\n",
    "ax2 = fig.add_subplot(122)\n",
    "ax2.plot(v_gaia_examon.time,windsel_gaia)\n",
    "ax2.plot(u_gaia_examon.time,reg_gaia)\n",
    "ax2.grid()\n",
    "\n",
    "ax1.set_xlabel('Time')\n",
    "ax2.set_xlabel('Time')\n",
    "ax1.set_ylabel('Monthly averaged wind speed')\n"
   ]
  },
  {
   "cell_type": "markdown",
   "metadata": {},
   "source": [
    "## Plotting Radar + Gaia Measurements"
   ]
  },
  {
   "cell_type": "markdown",
   "metadata": {},
   "source": [
    "### u"
   ]
  },
  {
   "cell_type": "code",
   "execution_count": null,
   "metadata": {
    "scrolled": true
   },
   "outputs": [],
   "source": [
    "\n",
    "s = 10\n",
    "e = 10\n",
    "z = 106\n",
    "for z in [76,80]:\n",
    "    u_radar_examon = u_radar_monthly_ano.sel(time=is_mon(u_radar_monthly_ano['time.month'],s,e))\n",
    "    u_gaia_examon = u_gaia_monthly_ano.sel(time=is_mon(u_gaia_monthly_ano['time.month'],s,e))\n",
    "\n",
    "    x = np.arange(u_gaia_examon.time.shape[0])\n",
    "\n",
    "    u_statistics_gaia = time_reg(u_gaia_examon)\n",
    "    u_statistics_gaia['parameter'] = ['slope', 'intercept', 'r_value','p_value', 'std_err']\n",
    "    reg_gaia = [m_gaia*i+n_gaia for i in x]\n",
    "\n",
    "    x = np.arange(u_radar_examon.time.shape[0])\n",
    "    u_statistics = time_reg(u_radar_examon)\n",
    "    u_statistics['parameter'] = ['slope', 'intercept', 'r_value','p_value', 'std_err']\n",
    "\n",
    "    m = (u_statistics.sel(parameter='slope',alt=[z]))\n",
    "    n = (u_statistics.sel(parameter='intercept',alt=[z]))\n",
    "    m_gaia = (u_statistics_gaia.sel(parameter='slope',alt=[z]))\n",
    "    n_gaia = (u_statistics_gaia.sel(parameter='intercept',alt=[z]))\n",
    "\n",
    "    reg = [m*i+n for i in x]\n",
    "    \n",
    "\n",
    "    plotstring = '\\n'.join((\n",
    "        r'P Values: ',\n",
    "        r'Radar   '+ str(round(*u_statistics.sel(parameter='p_value',alt=[z]).values,3 )),\n",
    "        r'Gaia    '+ str(round(*u_statistics_gaia.sel(parameter = 'p_value',alt=[z]).values,3 ))))\n",
    "    print(plotstring)\n",
    "\n",
    "    savestring = 'results/'+station+'_'+str(s)+'_'+str(z)+'_u.png'\n",
    "    print(savestring)\n",
    "    fig = plt.figure(constrained_layout=True,figsize = [15,9])\n",
    "\n",
    "    windsel_gaia = u_gaia_examon.sel(alt = [z], method = 'nearest')\n",
    "    windsel_radar = u_radar_examon.sel(alt = [z], method = 'nearest')\n",
    "\n",
    "    ax1 = fig.add_subplot(111)\n",
    "    ax1.plot(u_radar_examon.time,windsel_radar, label = 'Radar')\n",
    "    ax1.plot(u_radar_examon.time,reg)\n",
    "    ax1.plot(u_gaia_examon.time,windsel_gaia, label = 'Gaia')\n",
    "    ax1.plot(u_gaia_examon.time,reg_gaia)\n",
    "\n",
    "    ax1.grid()\n",
    "    ax1.set_xlabel('Time')\n",
    "    ax1.set_ylabel('Monthly averaged wind speed')\n",
    "    ax1.legend()\n",
    "    ax1.text(.9,0.01,plotstring, transform=ax1.transAxes)\n",
    "    plt.savefig(savestring)\n",
    "    print('Done with z: '+str(z))"
   ]
  },
  {
   "cell_type": "markdown",
   "metadata": {},
   "source": [
    "### v  "
   ]
  },
  {
   "cell_type": "code",
   "execution_count": null,
   "metadata": {},
   "outputs": [],
   "source": [
    "\n",
    "s = 1\n",
    "e = 3\n",
    "z = 106\n",
    "for z in [102,104]:\n",
    "    v_radar_examon = v_radar_monthly_ano.sel(time=is_mon(v_radar_monthly_ano['time.month'],s,e))\n",
    "    v_gaia_examon = v_gaia_monthly_ano.sel(time=is_mon(v_gaia_monthly_ano['time.month'],s,e))\n",
    "\n",
    "    x = np.arange(v_gaia_examon.time.shape[0])\n",
    "    v_statistics_gaia = time_reg(v_gaia_examon)\n",
    "    v_statistics_gaia['parameter'] = ['slope', 'intercept', 'r_valve','p_value', 'std_err']\n",
    "    reg_gaia = [m_gaia*i+n_gaia for i in x]\n",
    "\n",
    "    x = np.arange(v_radar_examon.time.shape[0])\n",
    "    v_statistics = time_reg(v_radar_examon)\n",
    "    v_statistics['parameter'] = ['slope', 'intercept', 'r_valve','p_value', 'std_err']\n",
    "\n",
    "    m = (v_statistics.sel(parameter='slope',alt=[z]))\n",
    "    n = (v_statistics.sel(parameter='intercept',alt=[z]))\n",
    "    m_gaia = (v_statistics_gaia.sel(parameter='slope',alt=[z]))\n",
    "    n_gaia = (v_statistics_gaia.sel(parameter='intercept',alt=[z]))\n",
    "\n",
    "    reg = [m*i+n for i in x]\n",
    "\n",
    "\n",
    "    plotstring = '\\n'.join((\n",
    "        r'P Values: ',\n",
    "        r'Radar   '+ str(round(*v_statistics.sel(parameter='p_value',alt=[z]).values,3 )),\n",
    "        r'Gaia    '+ str(round(*v_statistics_gaia.sel(parameter = 'p_value',alt=[z]).values,3 ))))\n",
    "    print(plotstring)\n",
    "    savestring = 'results/'+station+'_'+str(s)+'_'+str(z)+'_v.png'\n",
    "\n",
    "\n",
    "    fig = plt.figure(constrained_layout=True,figsize = [15,9])\n",
    "\n",
    "    windsel_gaia = v_gaia_examon.sel(alt = [z], method = 'nearest')\n",
    "    windsel_radar = v_radar_examon.sel(alt = [z], method = 'nearest')\n",
    "\n",
    "    ax1 = fig.add_subplot(111)\n",
    "    ax1.plot(v_radar_examon.time,windsel_radar, label = 'Radar')\n",
    "    ax1.plot(v_radar_examon.time,reg)\n",
    "    ax1.plot(v_gaia_examon.time,windsel_gaia, label = 'Gaia')\n",
    "    ax1.plot(v_gaia_examon.time,reg_gaia)\n",
    "\n",
    "    ax1.grid()\n",
    "    ax1.set_xlabel('Time')\n",
    "    ax1.set_ylabel('Monthly averaged wind speed')\n",
    "    ax1.legend()\n",
    "    ax1.text(.9,0.01,plotstring, transform=ax1.transAxes)\n",
    "    plt.savefig(savestring)\n",
    "    print('Done with z: '+str(z))"
   ]
  },
  {
   "cell_type": "code",
   "execution_count": null,
   "metadata": {},
   "outputs": [],
   "source": []
  }
 ],
 "metadata": {
  "jupytext": {
   "formats": "ipynb,py:light"
  },
  "kernelspec": {
   "display_name": "Python 3",
   "language": "python",
   "name": "python3"
  },
  "language_info": {
   "codemirror_mode": {
    "name": "ipython",
    "version": 3
   },
   "file_extension": ".py",
   "mimetype": "text/x-python",
   "name": "python",
   "nbconvert_exporter": "python",
   "pygments_lexer": "ipython3",
   "version": "3.6.10"
  },
  "toc-autonumbering": false,
  "toc-showcode": false,
  "toc-showmarkdowntxt": true,
  "toc-showtags": false
 },
 "nbformat": 4,
 "nbformat_minor": 4
}
